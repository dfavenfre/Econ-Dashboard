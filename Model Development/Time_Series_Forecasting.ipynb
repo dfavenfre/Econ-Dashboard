{
  "nbformat": 4,
  "nbformat_minor": 0,
  "metadata": {
    "colab": {
      "provenance": [],
      "collapsed_sections": [
        "Ayev1ROKs5yR",
        "0i8M0MIqtLH3"
      ],
      "toc_visible": true
    },
    "kernelspec": {
      "name": "python3",
      "display_name": "Python 3"
    },
    "language_info": {
      "name": "python"
    }
  },
  "cells": [
    {
      "cell_type": "markdown",
      "source": [
        "# Packages"
      ],
      "metadata": {
        "id": "Ayev1ROKs5yR"
      }
    },
    {
      "cell_type": "code",
      "execution_count": null,
      "metadata": {
        "id": "CdWQju-bf6gz"
      },
      "outputs": [],
      "source": [
        "# Tensorflow Packages\n",
        "import tensorflow as tf\n",
        "from tensorflow import keras\n",
        "from tensorflow.keras import layers\n",
        "from tensorflow.keras import models\n",
        "from keras.utils import plot_model\n",
        "\n",
        "# Basic Packages\n",
        "import matplotlib.pyplot as plt\n",
        "import seaborn as sns\n",
        "import warnings\n",
        "import numpy as np\n",
        "from numpy import ndarray\n",
        "import pandas as pd\n",
        "\n",
        "# Ignore warnings\n",
        "warnings.filterwarnings(\"ignore\")"
      ]
    },
    {
      "cell_type": "markdown",
      "source": [
        "# Useful Functions"
      ],
      "metadata": {
        "id": "CB4AxHirs8bt"
      }
    },
    {
      "cell_type": "code",
      "source": [
        "def normalize_data(data):\n",
        "\n"
      ],
      "metadata": {
        "id": "N_LorTNHJ-DS"
      },
      "execution_count": null,
      "outputs": []
    },
    {
      "cell_type": "code",
      "source": [
        "def prepare_timeseries(data, target_column:str, lookback:int)->ndarray:\n",
        "  \"\"\"\n",
        "  Description:\n",
        "  ------------\n",
        "  Prepare time series data with provided lookback period. The data will be shifted accordingly the provided lookback, and then NaN cells will be dropped for time series modelling.\n",
        "  Parameters:\n",
        "  ------------\n",
        "  data(ndarray): The feature data to be used in time-series forecasting model\n",
        "  target_column(str): The column that will be forecasted\n",
        "  lookback(int): Number of lookback-periods the model should take into consideration\n",
        "  Returns:\n",
        "  ------------\n",
        "  Returns whole Data (data) prepared in accordance with the provided lookback\n",
        "  \"\"\"\n",
        "\n",
        "  data_copy = data.copy()\n",
        "  for i in range(lookback):\n",
        "    data_copy[f\"target_column+{i+1}\"] = data_copy[target_column].shift(periods=i+1)\n",
        "\n",
        "  X = data_copy.dropna().drop([target_column], axis=1).astype(np.float32)\n",
        "  y = data_copy.dropna()[target_column].astype(np.float32)\n",
        "\n",
        "  return X,y"
      ],
      "metadata": {
        "id": "yaLnB9KttRn4"
      },
      "execution_count": null,
      "outputs": []
    },
    {
      "cell_type": "code",
      "source": [
        "def train_test_split(X:ndarray,y:ndarray,cut_off_rate:float):\n",
        "  \"\"\"\n",
        "  Description:\n",
        "  ------------\n",
        "    Prepare data for training and set aside a certain percentage of the training data for later validation testing.\n",
        "\n",
        "  Parameters:\n",
        "  ------------\n",
        "  X(ndarray): Pass feature data as numpy array\n",
        "  y(ndarray): Pass target data as numpy array\n",
        "  cut_off_rate(float): Cut off rate will be used to indexing up to a certain percentage of feature data\n",
        "\n",
        "  Returns:\n",
        "  ------------\n",
        "  X and y values as both training and unseen validation data; X_train, X_test, y_train, y_test\n",
        "\n",
        "  \"\"\"\n",
        "  cut_off = int(len(X)*cut_off_rate)\n",
        "  X_train, y_train = X[:cut_off], y[:cut_off]\n",
        "  X_test, y_test = X[cut_off:], y[cut_off:]\n",
        "\n",
        "  return X_train, X_test, y_train, y_test"
      ],
      "metadata": {
        "id": "NIPiOgzhgm-S"
      },
      "execution_count": null,
      "outputs": []
    },
    {
      "cell_type": "code",
      "source": [
        "def evaluate_preds(y_test:ndarray, y_pred:ndarray)->dict:\n",
        "  \"\"\"\n",
        "  Description:\n",
        "  ------------\n",
        "  Evaluates the performance of predicted values against the true values using various metrics.\n",
        "\n",
        "  Parameters:\n",
        "  -----------\n",
        "  y_test: array-like\n",
        "      True values of the target variable.\n",
        "  y_pred: array-like\n",
        "      Predicted values of the target variable.\n",
        "\n",
        "  Returns:\n",
        "  --------\n",
        "  dict:\n",
        "      A dictionary containing the calculated metrics, including Mean Absolute Error (MAE),\n",
        "      Mean Squared Error (MSE), Root Mean Squared Error (RMSE), and Mean Absolute Percentage Error (MAPE).\n",
        "  \"\"\"\n",
        "  y_test = tf.cast(y_test, dtype=tf.float32)\n",
        "  y_pred = tf.cast(y_pred, dtype=tf.float32)\n",
        "\n",
        "  mae=tf.keras.metrics.mean_absolute_error(y_test, y_pred)\n",
        "  mse=tf.keras.metrics.mean_squared_error(y_test, y_pred)\n",
        "  rmse=tf.sqrt(mse)\n",
        "  mape=tf.keras.metrics.mean_absolute_percentage_error(y_test, y_pred)\n",
        "\n",
        "  return {\"mae\":mae.numpy(),\n",
        "          \"mse\":mse.numpy(),\n",
        "          \"rmse\":rmse.numpy(),\n",
        "          \"mape\":mape.numpy()}"
      ],
      "metadata": {
        "id": "LUI-Ztg7s-gi"
      },
      "execution_count": null,
      "outputs": []
    },
    {
      "cell_type": "code",
      "source": [
        "def predict_forward_window(prediction_data:ndarray, model_name):\n",
        "  \"\"\"\n",
        "  Description:\n",
        "  -----------\n",
        "  Calculates the potential percentage change between last available close data and the predicted close.\n",
        "\n",
        "  Parameters:\n",
        "  -----------\n",
        "\n",
        "\n",
        "  Returns\n",
        "  -----------\n",
        "\n",
        "  \"\"\"\n",
        "\n",
        "  prediction = tf.squeeze(model_name.predict(prediction_data))\n",
        "  prediction = prediction.numpy()\n",
        "  result = (prediction / prediction_data[0][1] -1 )*100\n",
        "\n",
        "  # drowdown\n",
        "  if result<0:\n",
        "    print(\"Target Price: {:.3f}\".format(prediction),\n",
        "          \"Potential Downside: {}\".format(str(round(result,2))+\"%\"))\n",
        "\n",
        "  # up-ward surge\n",
        "  else:\n",
        "    print(\"Target Price: {:.3f}\".format(prediction),\n",
        "    \"Potential Upside: {}\".format(str(round(result,2))+\"%\"))"
      ],
      "metadata": {
        "id": "xH09G7owRg8T"
      },
      "execution_count": null,
      "outputs": []
    },
    {
      "cell_type": "markdown",
      "source": [
        "# Callbacks"
      ],
      "metadata": {
        "id": "0i8M0MIqtLH3"
      }
    },
    {
      "cell_type": "code",
      "source": [
        "tf.random.set_seed(42)\n",
        "\n",
        "# best epoch\n",
        "cb_checkpoint = tf.keras.callbacks.ModelCheckpoint(\n",
        "    filepath=\"checkpoints/model-{epoch:02d}-{root_mean_squared_error:.3f}.hdf5\",\n",
        "    monitor=\"val_loss\",\n",
        "    mode=\"min\",\n",
        "    save_best_only=True,\n",
        "    verbose=1\n",
        ")\n",
        "\n",
        "# learning rate drop\n",
        "cb_reducelr = tf.keras.callbacks.ReduceLROnPlateau(\n",
        "    monitor=\"val_loss\",\n",
        "    mode=\"min\",\n",
        "    factor=0.5, # reduce lr by 50% each rate drop\n",
        "    patience=5,\n",
        "    verbose=1,\n",
        "    min_lr=0.000001\n",
        ")\n",
        "\n",
        "# early stopping\n",
        "cb_earlystop = tf.keras.callbacks.EarlyStopping(\n",
        "    monitor=\"val_loss\",\n",
        "    mode=\"min\",\n",
        "    min_delta=0.001,\n",
        "    patience=10,\n",
        "    verbose=1,\n",
        ")\n",
        "\n",
        "# CSV logger\n",
        "cb_csvlogger = tf.keras.callbacks.CSVLogger(\n",
        "    filename=\"training_log.csv\",\n",
        "    separator=\",\",\n",
        "    append=False\n",
        ")"
      ],
      "metadata": {
        "id": "MnTEq3HstMux"
      },
      "execution_count": null,
      "outputs": []
    },
    {
      "cell_type": "markdown",
      "source": [
        "# Modelling For *Large Cap\n"
      ],
      "metadata": {
        "id": "VTfXc4zGtGSU"
      }
    },
    {
      "cell_type": "code",
      "source": [
        "data = pd.read_csv(\"/content/ticker_dataframe (9).csv\")\n",
        "data.set_index(\"Date\", inplace=True)\n",
        "data = data[[\"Close\",\"Volume\"]]\n",
        "data.head()"
      ],
      "metadata": {
        "id": "CO5FwRUmtIbm"
      },
      "execution_count": null,
      "outputs": []
    },
    {
      "cell_type": "code",
      "source": [
        "X, y = prepare_timeseries(data, \"Close\", 7)"
      ],
      "metadata": {
        "id": "kaLRkaHdNTK1"
      },
      "execution_count": null,
      "outputs": []
    },
    {
      "cell_type": "code",
      "source": [
        "X_train, X_test, y_train, y_test = train_test_split(X,y,0.8)"
      ],
      "metadata": {
        "id": "DWO1po_JNqOJ"
      },
      "execution_count": null,
      "outputs": []
    },
    {
      "cell_type": "code",
      "source": [
        "inputs=layers.Input(shape=(8))\n",
        "x=layers.Lambda(lambda x: tf.expand_dims(x, axis=1))(inputs)\n",
        "x=layers.BatchNormalization()(x)\n",
        "x=layers.LSTM(512, activation=\"relu\", return_sequences=True)(x)\n",
        "x=layers.BatchNormalization()(x)\n",
        "x=layers.Dropout(0.5)(x)\n",
        "x=layers.LSTM(512)(x)\n",
        "x=layers.BatchNormalization()(x)\n",
        "x=layers.Dense(128, activation=\"relu\")(x)\n",
        "output = layers.Dense(1, activation=\"linear\")(x)\n",
        "lstm7d = tf.keras.Model(inputs=inputs, outputs=output, name=\"lstm7d\") #7day look-back lstm model\n",
        "\n",
        "# compile\n",
        "lstm7d.compile(loss=\"mse\",\n",
        "               optimizer=tf.keras.optimizers.Adam(),\n",
        "               metrics=[tf.keras.metrics.RootMeanSquaredError()])\n",
        "\n",
        "lstm7d.summary()"
      ],
      "metadata": {
        "colab": {
          "base_uri": "https://localhost:8080/"
        },
        "id": "FKx8OLOWNwSA",
        "outputId": "e2f568cb-a968-4e73-828b-caa2a9bfd653"
      },
      "execution_count": null,
      "outputs": [
        {
          "output_type": "stream",
          "name": "stdout",
          "text": [
            "Model: \"lstm7d\"\n",
            "_________________________________________________________________\n",
            " Layer (type)                Output Shape              Param #   \n",
            "=================================================================\n",
            " input_6 (InputLayer)        [(None, 8)]               0         \n",
            "                                                                 \n",
            " lambda_5 (Lambda)           (None, 1, 8)              0         \n",
            "                                                                 \n",
            " batch_normalization_15 (Bat  (None, 1, 8)             32        \n",
            " chNormalization)                                                \n",
            "                                                                 \n",
            " lstm_10 (LSTM)              (None, 1, 512)            1067008   \n",
            "                                                                 \n",
            " batch_normalization_16 (Bat  (None, 1, 512)           2048      \n",
            " chNormalization)                                                \n",
            "                                                                 \n",
            " dropout_5 (Dropout)         (None, 1, 512)            0         \n",
            "                                                                 \n",
            " lstm_11 (LSTM)              (None, 512)               2099200   \n",
            "                                                                 \n",
            " batch_normalization_17 (Bat  (None, 512)              2048      \n",
            " chNormalization)                                                \n",
            "                                                                 \n",
            " dense_10 (Dense)            (None, 128)               65664     \n",
            "                                                                 \n",
            " dense_11 (Dense)            (None, 1)                 129       \n",
            "                                                                 \n",
            "=================================================================\n",
            "Total params: 3,236,129\n",
            "Trainable params: 3,234,065\n",
            "Non-trainable params: 2,064\n",
            "_________________________________________________________________\n"
          ]
        }
      ]
    },
    {
      "cell_type": "code",
      "source": [
        "# Model fitting\n",
        "lstm7d.fit(X_train, y_train,\n",
        "             epochs=100,\n",
        "             batch_size=128,\n",
        "             verbose=0,\n",
        "             validation_data=(X_test, y_test),\n",
        "             callbacks=[cb_checkpoint,\n",
        "                        cb_reducelr,\n",
        "                        cb_earlystop,\n",
        "                        cb_csvlogger])"
      ],
      "metadata": {
        "colab": {
          "base_uri": "https://localhost:8080/"
        },
        "id": "FIMZJICPPNXs",
        "outputId": "91c96de5-f371-43fd-e686-5ece7d50071c"
      },
      "execution_count": null,
      "outputs": [
        {
          "output_type": "stream",
          "name": "stdout",
          "text": [
            "\n",
            "Epoch 1: val_loss improved from inf to 53136.12891, saving model to checkpoints/model-01-122.490.hdf5\n",
            "\n",
            "Epoch 2: val_loss improved from 53136.12891 to 49563.50781, saving model to checkpoints/model-02-88.491.hdf5\n",
            "\n",
            "Epoch 3: val_loss improved from 49563.50781 to 47199.34375, saving model to checkpoints/model-03-52.958.hdf5\n",
            "\n",
            "Epoch 4: val_loss improved from 47199.34375 to 47002.94141, saving model to checkpoints/model-04-30.150.hdf5\n",
            "\n",
            "Epoch 5: val_loss did not improve from 47002.94141\n",
            "\n",
            "Epoch 6: val_loss did not improve from 47002.94141\n",
            "\n",
            "Epoch 7: val_loss improved from 47002.94141 to 46251.40625, saving model to checkpoints/model-07-21.325.hdf5\n",
            "\n",
            "Epoch 8: val_loss did not improve from 46251.40625\n",
            "\n",
            "Epoch 9: val_loss improved from 46251.40625 to 44754.03125, saving model to checkpoints/model-09-21.661.hdf5\n",
            "\n",
            "Epoch 10: val_loss improved from 44754.03125 to 43264.11719, saving model to checkpoints/model-10-24.104.hdf5\n",
            "\n",
            "Epoch 11: val_loss improved from 43264.11719 to 42381.91797, saving model to checkpoints/model-11-18.148.hdf5\n",
            "\n",
            "Epoch 12: val_loss improved from 42381.91797 to 41762.07031, saving model to checkpoints/model-12-23.718.hdf5\n",
            "\n",
            "Epoch 13: val_loss improved from 41762.07031 to 41564.77734, saving model to checkpoints/model-13-18.668.hdf5\n",
            "\n",
            "Epoch 14: val_loss improved from 41564.77734 to 39465.59766, saving model to checkpoints/model-14-16.005.hdf5\n",
            "\n",
            "Epoch 15: val_loss improved from 39465.59766 to 38988.05469, saving model to checkpoints/model-15-18.126.hdf5\n",
            "\n",
            "Epoch 16: val_loss improved from 38988.05469 to 38667.74609, saving model to checkpoints/model-16-20.594.hdf5\n",
            "\n",
            "Epoch 17: val_loss improved from 38667.74609 to 36685.70312, saving model to checkpoints/model-17-14.034.hdf5\n",
            "\n",
            "Epoch 18: val_loss improved from 36685.70312 to 35658.38672, saving model to checkpoints/model-18-15.092.hdf5\n",
            "\n",
            "Epoch 19: val_loss improved from 35658.38672 to 33662.96094, saving model to checkpoints/model-19-13.441.hdf5\n",
            "\n",
            "Epoch 20: val_loss improved from 33662.96094 to 32587.78320, saving model to checkpoints/model-20-15.693.hdf5\n",
            "\n",
            "Epoch 21: val_loss improved from 32587.78320 to 31049.87891, saving model to checkpoints/model-21-20.898.hdf5\n",
            "\n",
            "Epoch 22: val_loss did not improve from 31049.87891\n",
            "\n",
            "Epoch 23: val_loss improved from 31049.87891 to 30622.89062, saving model to checkpoints/model-23-20.270.hdf5\n",
            "\n",
            "Epoch 24: val_loss improved from 30622.89062 to 27637.32617, saving model to checkpoints/model-24-15.878.hdf5\n",
            "\n",
            "Epoch 25: val_loss improved from 27637.32617 to 26364.25391, saving model to checkpoints/model-25-17.120.hdf5\n",
            "\n",
            "Epoch 26: val_loss improved from 26364.25391 to 24127.76172, saving model to checkpoints/model-26-19.473.hdf5\n",
            "\n",
            "Epoch 27: val_loss improved from 24127.76172 to 21995.49414, saving model to checkpoints/model-27-13.462.hdf5\n",
            "\n",
            "Epoch 28: val_loss improved from 21995.49414 to 19734.01953, saving model to checkpoints/model-28-11.496.hdf5\n",
            "\n",
            "Epoch 29: val_loss improved from 19734.01953 to 18283.17578, saving model to checkpoints/model-29-17.022.hdf5\n",
            "\n",
            "Epoch 30: val_loss improved from 18283.17578 to 17148.83594, saving model to checkpoints/model-30-15.308.hdf5\n",
            "\n",
            "Epoch 31: val_loss improved from 17148.83594 to 14723.72852, saving model to checkpoints/model-31-13.528.hdf5\n",
            "\n",
            "Epoch 32: val_loss improved from 14723.72852 to 13897.01367, saving model to checkpoints/model-32-13.201.hdf5\n",
            "\n",
            "Epoch 33: val_loss improved from 13897.01367 to 11609.30859, saving model to checkpoints/model-33-14.852.hdf5\n",
            "\n",
            "Epoch 34: val_loss improved from 11609.30859 to 9569.46191, saving model to checkpoints/model-34-20.517.hdf5\n",
            "\n",
            "Epoch 35: val_loss improved from 9569.46191 to 8747.27051, saving model to checkpoints/model-35-18.760.hdf5\n",
            "\n",
            "Epoch 36: val_loss improved from 8747.27051 to 7481.93848, saving model to checkpoints/model-36-15.722.hdf5\n",
            "\n",
            "Epoch 37: val_loss improved from 7481.93848 to 5561.53271, saving model to checkpoints/model-37-11.471.hdf5\n",
            "\n",
            "Epoch 38: val_loss did not improve from 5561.53271\n",
            "\n",
            "Epoch 39: val_loss improved from 5561.53271 to 3792.12085, saving model to checkpoints/model-39-14.620.hdf5\n",
            "\n",
            "Epoch 40: val_loss did not improve from 3792.12085\n",
            "\n",
            "Epoch 41: val_loss did not improve from 3792.12085\n",
            "\n",
            "Epoch 42: val_loss did not improve from 3792.12085\n",
            "\n",
            "Epoch 43: val_loss did not improve from 3792.12085\n",
            "\n",
            "Epoch 44: val_loss did not improve from 3792.12085\n",
            "\n",
            "Epoch 44: ReduceLROnPlateau reducing learning rate to 0.0005000000237487257.\n",
            "\n",
            "Epoch 45: val_loss improved from 3792.12085 to 3483.07373, saving model to checkpoints/model-45-13.793.hdf5\n",
            "\n",
            "Epoch 46: val_loss did not improve from 3483.07373\n",
            "\n",
            "Epoch 47: val_loss improved from 3483.07373 to 2820.64795, saving model to checkpoints/model-47-11.784.hdf5\n",
            "\n",
            "Epoch 48: val_loss improved from 2820.64795 to 2686.47095, saving model to checkpoints/model-48-11.237.hdf5\n",
            "\n",
            "Epoch 49: val_loss improved from 2686.47095 to 2438.49316, saving model to checkpoints/model-49-11.564.hdf5\n",
            "\n",
            "Epoch 50: val_loss did not improve from 2438.49316\n",
            "\n",
            "Epoch 51: val_loss did not improve from 2438.49316\n",
            "\n",
            "Epoch 52: val_loss improved from 2438.49316 to 1359.78149, saving model to checkpoints/model-52-12.773.hdf5\n",
            "\n",
            "Epoch 53: val_loss improved from 1359.78149 to 1197.42334, saving model to checkpoints/model-53-11.999.hdf5\n",
            "\n",
            "Epoch 54: val_loss improved from 1197.42334 to 848.11462, saving model to checkpoints/model-54-10.673.hdf5\n",
            "\n",
            "Epoch 55: val_loss improved from 848.11462 to 661.31989, saving model to checkpoints/model-55-10.994.hdf5\n",
            "\n",
            "Epoch 56: val_loss improved from 661.31989 to 661.08014, saving model to checkpoints/model-56-11.345.hdf5\n",
            "\n",
            "Epoch 57: val_loss improved from 661.08014 to 640.70856, saving model to checkpoints/model-57-10.842.hdf5\n",
            "\n",
            "Epoch 58: val_loss improved from 640.70856 to 474.62695, saving model to checkpoints/model-58-12.648.hdf5\n",
            "\n",
            "Epoch 59: val_loss improved from 474.62695 to 293.28928, saving model to checkpoints/model-59-12.792.hdf5\n",
            "\n",
            "Epoch 60: val_loss did not improve from 293.28928\n",
            "\n",
            "Epoch 61: val_loss did not improve from 293.28928\n",
            "\n",
            "Epoch 62: val_loss did not improve from 293.28928\n",
            "\n",
            "Epoch 63: val_loss did not improve from 293.28928\n",
            "\n",
            "Epoch 64: val_loss improved from 293.28928 to 150.16301, saving model to checkpoints/model-64-10.730.hdf5\n",
            "\n",
            "Epoch 65: val_loss did not improve from 150.16301\n",
            "\n",
            "Epoch 66: val_loss did not improve from 150.16301\n",
            "\n",
            "Epoch 67: val_loss did not improve from 150.16301\n",
            "\n",
            "Epoch 68: val_loss did not improve from 150.16301\n",
            "\n",
            "Epoch 69: val_loss did not improve from 150.16301\n",
            "\n",
            "Epoch 69: ReduceLROnPlateau reducing learning rate to 0.0002500000118743628.\n",
            "\n",
            "Epoch 70: val_loss did not improve from 150.16301\n",
            "\n",
            "Epoch 71: val_loss improved from 150.16301 to 137.51837, saving model to checkpoints/model-71-12.592.hdf5\n",
            "\n",
            "Epoch 72: val_loss did not improve from 137.51837\n",
            "\n",
            "Epoch 73: val_loss did not improve from 137.51837\n",
            "\n",
            "Epoch 74: val_loss did not improve from 137.51837\n",
            "\n",
            "Epoch 75: val_loss improved from 137.51837 to 111.34398, saving model to checkpoints/model-75-11.483.hdf5\n",
            "\n",
            "Epoch 76: val_loss improved from 111.34398 to 108.78355, saving model to checkpoints/model-76-13.804.hdf5\n",
            "\n",
            "Epoch 77: val_loss improved from 108.78355 to 102.92136, saving model to checkpoints/model-77-10.825.hdf5\n",
            "\n",
            "Epoch 78: val_loss did not improve from 102.92136\n",
            "\n",
            "Epoch 79: val_loss did not improve from 102.92136\n",
            "\n",
            "Epoch 80: val_loss did not improve from 102.92136\n",
            "\n",
            "Epoch 81: val_loss did not improve from 102.92136\n",
            "\n",
            "Epoch 82: val_loss did not improve from 102.92136\n",
            "\n",
            "Epoch 82: ReduceLROnPlateau reducing learning rate to 0.0001250000059371814.\n",
            "\n",
            "Epoch 83: val_loss did not improve from 102.92136\n",
            "\n",
            "Epoch 84: val_loss did not improve from 102.92136\n",
            "\n",
            "Epoch 85: val_loss improved from 102.92136 to 98.66515, saving model to checkpoints/model-85-10.873.hdf5\n",
            "\n",
            "Epoch 86: val_loss improved from 98.66515 to 97.34422, saving model to checkpoints/model-86-10.229.hdf5\n",
            "\n",
            "Epoch 87: val_loss did not improve from 97.34422\n",
            "\n",
            "Epoch 88: val_loss did not improve from 97.34422\n",
            "\n",
            "Epoch 89: val_loss did not improve from 97.34422\n",
            "\n",
            "Epoch 90: val_loss did not improve from 97.34422\n",
            "\n",
            "Epoch 91: val_loss did not improve from 97.34422\n",
            "\n",
            "Epoch 91: ReduceLROnPlateau reducing learning rate to 6.25000029685907e-05.\n",
            "\n",
            "Epoch 92: val_loss did not improve from 97.34422\n",
            "\n",
            "Epoch 93: val_loss did not improve from 97.34422\n",
            "\n",
            "Epoch 94: val_loss did not improve from 97.34422\n",
            "\n",
            "Epoch 95: val_loss did not improve from 97.34422\n",
            "\n",
            "Epoch 96: val_loss did not improve from 97.34422\n",
            "\n",
            "Epoch 96: ReduceLROnPlateau reducing learning rate to 3.125000148429535e-05.\n",
            "Epoch 96: early stopping\n"
          ]
        },
        {
          "output_type": "execute_result",
          "data": {
            "text/plain": [
              "<keras.callbacks.History at 0x7efb49517910>"
            ]
          },
          "metadata": {},
          "execution_count": 47
        }
      ]
    },
    {
      "cell_type": "code",
      "source": [
        "# load best model\n",
        "best_lstm7d = tf.keras.models.load_model(\"/content/checkpoints/model-86-10.229.hdf5\")\n",
        "model_lstm_preds = tf.squeeze(best_lstm7d.predict(X[int(len(X)*0.8):]))\n",
        "predictions = model_lstm_preds.numpy()"
      ],
      "metadata": {
        "colab": {
          "base_uri": "https://localhost:8080/"
        },
        "id": "3YMD0CqoPoli",
        "outputId": "93bc9166-711c-4baf-efb6-8175a7a605f3"
      },
      "execution_count": null,
      "outputs": [
        {
          "output_type": "stream",
          "name": "stdout",
          "text": [
            "11/11 [==============================] - 1s 9ms/step\n"
          ]
        }
      ]
    },
    {
      "cell_type": "markdown",
      "source": [
        "## Performance Evaluation\n",
        "- Evaluation Scores\n",
        "  - mae\n",
        "  - mse\n",
        "  - rmse\n",
        "  - mape\n",
        "\n",
        "- Actual vs Predictions\n",
        "- Forward Prediction"
      ],
      "metadata": {
        "id": "z2O7j2IVaGxp"
      }
    },
    {
      "cell_type": "code",
      "source": [
        "evaluate_preds(y_test, model_lstm_preds)"
      ],
      "metadata": {
        "colab": {
          "base_uri": "https://localhost:8080/"
        },
        "id": "WtaouRTXWadu",
        "outputId": "4b903750-4c08-4994-f236-3ae6b9f4b0c5"
      },
      "execution_count": null,
      "outputs": [
        {
          "output_type": "execute_result",
          "data": {
            "text/plain": [
              "{'mae': 7.5996323, 'mse': 97.344215, 'rmse': 9.866317, 'mape': 3.476723}"
            ]
          },
          "metadata": {},
          "execution_count": 119
        }
      ]
    },
    {
      "cell_type": "code",
      "source": [
        "plt.figure(figsize=(10,7))\n",
        "plt.plot(y[int(len(X)*0.8):].values, label=\"actual\")\n",
        "plt.plot(predictions, label=\"predictions\")\n",
        "plt.title(\"Prediction Performance\")\n",
        "plt.xticks(rotation=90)\n",
        "plt.legend();"
      ],
      "metadata": {
        "colab": {
          "base_uri": "https://localhost:8080/",
          "height": 634
        },
        "id": "0wIYWpAjQBy0",
        "outputId": "3d0382d8-15c4-4602-9d96-3fefff45cbe0"
      },
      "execution_count": null,
      "outputs": [
        {
          "output_type": "display_data",
          "data": {
            "text/plain": [
              "<Figure size 1000x700 with 1 Axes>"
            ],
            "image/png": "[encoded data removed]"
          },
          "metadata": {}
        }
      ]
    },
    {
      "cell_type": "code",
      "source": [
        "test_data2 = [[47882200, 125.30, 124.25, 122.77, 120.58, 121.66, 120.11, 115.00]]\n",
        "predict_forward_window(test_data2, best_lstm7d)"
      ],
      "metadata": {
        "colab": {
          "base_uri": "https://localhost:8080/"
        },
        "id": "Lu3_0_YvW6w1",
        "outputId": "be62965c-d4f4-44c4-9c5d-a92baf5ad817"
      },
      "execution_count": null,
      "outputs": [
        {
          "output_type": "stream",
          "name": "stdout",
          "text": [
            "1/1 [==============================] - 0s 84ms/step\n",
            "Target Price: 132.833 Potential Upside: 6.01%\n"
          ]
        }
      ]
    },
    {
      "cell_type": "markdown",
      "source": [
        "# Modelling For *Low Cap"
      ],
      "metadata": {
        "id": "TMAO98y_t3dh"
      }
    },
    {
      "cell_type": "code",
      "source": [
        "data = pd.read_csv(\"/content/ticker_dataframe (10).csv\")\n",
        "data.set_index(\"Date\", inplace=True)\n",
        "data = data[[\"Close\",\"Volume\"]]\n",
        "data.tail()"
      ],
      "metadata": {
        "id": "TsgOa9spt6On",
        "colab": {
          "base_uri": "https://localhost:8080/",
          "height": 238
        },
        "outputId": "645ecc32-6730-43cb-8931-697862759cfb"
      },
      "execution_count": null,
      "outputs": [
        {
          "output_type": "execute_result",
          "data": {
            "text/plain": [
              "                               Close  Volume\n",
              "Date                                        \n",
              "2023-05-30 00:00:00-04:00  31.080000  169900\n",
              "2023-05-31 00:00:00-04:00  31.719999  336000\n",
              "2023-06-01 00:00:00-04:00  32.470001   95400\n",
              "2023-06-02 00:00:00-04:00  33.680000  232800\n",
              "2023-06-05 00:00:00-04:00  33.130001  209400"
            ],
            "text/html": [
              "\n",
              "  <div id=\"df-7f4867d2-7dde-4dc0-993e-b4e495dc40fe\">\n",
              "    <div class=\"colab-df-container\">\n",
              "      <div>\n",
              "<style scoped>\n",
              "    .dataframe tbody tr th:only-of-type {\n",
              "        vertical-align: middle;\n",
              "    }\n",
              "\n",
              "    .dataframe tbody tr th {\n",
              "        vertical-align: top;\n",
              "    }\n",
              "\n",
              "    .dataframe thead th {\n",
              "        text-align: right;\n",
              "    }\n",
              "</style>\n",
              "<table border=\"1\" class=\"dataframe\">\n",
              "  <thead>\n",
              "    <tr style=\"text-align: right;\">\n",
              "      <th></th>\n",
              "      <th>Close</th>\n",
              "      <th>Volume</th>\n",
              "    </tr>\n",
              "    <tr>\n",
              "      <th>Date</th>\n",
              "      <th></th>\n",
              "      <th></th>\n",
              "    </tr>\n",
              "  </thead>\n",
              "  <tbody>\n",
              "    <tr>\n",
              "      <th>2023-05-30 00:00:00-04:00</th>\n",
              "      <td>31.080000</td>\n",
              "      <td>169900</td>\n",
              "    </tr>\n",
              "    <tr>\n",
              "      <th>2023-05-31 00:00:00-04:00</th>\n",
              "      <td>31.719999</td>\n",
              "      <td>336000</td>\n",
              "    </tr>\n",
              "    <tr>\n",
              "      <th>2023-06-01 00:00:00-04:00</th>\n",
              "      <td>32.470001</td>\n",
              "      <td>95400</td>\n",
              "    </tr>\n",
              "    <tr>\n",
              "      <th>2023-06-02 00:00:00-04:00</th>\n",
              "      <td>33.680000</td>\n",
              "      <td>232800</td>\n",
              "    </tr>\n",
              "    <tr>\n",
              "      <th>2023-06-05 00:00:00-04:00</th>\n",
              "      <td>33.130001</td>\n",
              "      <td>209400</td>\n",
              "    </tr>\n",
              "  </tbody>\n",
              "</table>\n",
              "</div>\n",
              "      <button class=\"colab-df-convert\" onclick=\"convertToInteractive('df-7f4867d2-7dde-4dc0-993e-b4e495dc40fe')\"\n",
              "              title=\"Convert this dataframe to an interactive table.\"\n",
              "              style=\"display:none;\">\n",
              "        \n",
              "  <svg xmlns=\"http://www.w3.org/2000/svg\" height=\"24px\"viewBox=\"0 0 24 24\"\n",
              "       width=\"24px\">\n",
              "    <path d=\"M0 0h24v24H0V0z\" fill=\"none\"/>\n",
              "    <path d=\"M18.56 5.44l.94 2.06.94-2.06 2.06-.94-2.06-.94-.94-2.06-.94 2.06-2.06.94zm-11 1L8.5 8.5l.94-2.06 2.06-.94-2.06-.94L8.5 2.5l-.94 2.06-2.06.94zm10 10l.94 2.06.94-2.06 2.06-.94-2.06-.94-.94-2.06-.94 2.06-2.06.94z\"/><path d=\"M17.41 7.96l-1.37-1.37c-.4-.4-.92-.59-1.43-.59-.52 0-1.04.2-1.43.59L10.3 9.45l-7.72 7.72c-.78.78-.78 2.05 0 2.83L4 21.41c.39.39.9.59 1.41.59.51 0 1.02-.2 1.41-.59l7.78-7.78 2.81-2.81c.8-.78.8-2.07 0-2.86zM5.41 20L4 18.59l7.72-7.72 1.47 1.35L5.41 20z\"/>\n",
              "  </svg>\n",
              "      </button>\n",
              "      \n",
              "  <style>\n",
              "    .colab-df-container {\n",
              "      display:flex;\n",
              "      flex-wrap:wrap;\n",
              "      gap: 12px;\n",
              "    }\n",
              "\n",
              "    .colab-df-convert {\n",
              "      background-color: #E8F0FE;\n",
              "      border: none;\n",
              "      border-radius: 50%;\n",
              "      cursor: pointer;\n",
              "      display: none;\n",
              "      fill: #1967D2;\n",
              "      height: 32px;\n",
              "      padding: 0 0 0 0;\n",
              "      width: 32px;\n",
              "    }\n",
              "\n",
              "    .colab-df-convert:hover {\n",
              "      background-color: #E2EBFA;\n",
              "      box-shadow: 0px 1px 2px rgba(60, 64, 67, 0.3), 0px 1px 3px 1px rgba(60, 64, 67, 0.15);\n",
              "      fill: #174EA6;\n",
              "    }\n",
              "\n",
              "    [theme=dark] .colab-df-convert {\n",
              "      background-color: #3B4455;\n",
              "      fill: #D2E3FC;\n",
              "    }\n",
              "\n",
              "    [theme=dark] .colab-df-convert:hover {\n",
              "      background-color: #434B5C;\n",
              "      box-shadow: 0px 1px 3px 1px rgba(0, 0, 0, 0.15);\n",
              "      filter: drop-shadow(0px 1px 2px rgba(0, 0, 0, 0.3));\n",
              "      fill: #FFFFFF;\n",
              "    }\n",
              "  </style>\n",
              "\n",
              "      <script>\n",
              "        const buttonEl =\n",
              "          document.querySelector('#df-7f4867d2-7dde-4dc0-993e-b4e495dc40fe button.colab-df-convert');\n",
              "        buttonEl.style.display =\n",
              "          google.colab.kernel.accessAllowed ? 'block' : 'none';\n",
              "\n",
              "        async function convertToInteractive(key) {\n",
              "          const element = document.querySelector('#df-7f4867d2-7dde-4dc0-993e-b4e495dc40fe');\n",
              "          const dataTable =\n",
              "            await google.colab.kernel.invokeFunction('convertToInteractive',\n",
              "                                                     [key], {});\n",
              "          if (!dataTable) return;\n",
              "\n",
              "          const docLinkHtml = 'Like what you see? Visit the ' +\n",
              "            '<a target=\"_blank\" href=https://colab.research.google.com/notebooks/data_table.ipynb>data table notebook</a>'\n",
              "            + ' to learn more about interactive tables.';\n",
              "          element.innerHTML = '';\n",
              "          dataTable['output_type'] = 'display_data';\n",
              "          await google.colab.output.renderOutput(dataTable, element);\n",
              "          const docLink = document.createElement('div');\n",
              "          docLink.innerHTML = docLinkHtml;\n",
              "          element.appendChild(docLink);\n",
              "        }\n",
              "      </script>\n",
              "    </div>\n",
              "  </div>\n",
              "  "
            ]
          },
          "metadata": {},
          "execution_count": 21
        }
      ]
    },
    {
      "cell_type": "code",
      "source": [
        "X, y = prepare_timeseries(data, \"Close\", 7)"
      ],
      "metadata": {
        "id": "ZvftmdWDJjOY"
      },
      "execution_count": null,
      "outputs": []
    },
    {
      "cell_type": "code",
      "source": [
        "X_train, X_test, y_train, y_test = train_test_split(X,y,0.8)"
      ],
      "metadata": {
        "id": "8JmEpYokJlZB"
      },
      "execution_count": null,
      "outputs": []
    },
    {
      "cell_type": "code",
      "source": [
        "inputs=layers.Input(shape=(8))\n",
        "x=layers.Lambda(lambda x: tf.expand_dims(x, axis=1))(inputs)\n",
        "x=layers.BatchNormalization()(x)\n",
        "x=layers.LSTM(512, activation=\"relu\", return_sequences=True)(x)\n",
        "x=layers.BatchNormalization()(x)\n",
        "x=layers.Dropout(0.5)(x)\n",
        "x=layers.LSTM(512)(x)\n",
        "x=layers.BatchNormalization()(x)\n",
        "x=layers.Dense(256, activation=\"relu\")(x)\n",
        "output = layers.Dense(1, activation=\"linear\")(x)\n",
        "lstm7d = tf.keras.Model(inputs=inputs, outputs=output, name=\"lstm7d\") #7day look-back lstm model\n",
        "\n",
        "\n",
        "# compile\n",
        "lstm7d.compile(loss=\"mse\",\n",
        "               optimizer=tf.keras.optimizers.Adam(),\n",
        "               metrics=[tf.keras.metrics.RootMeanSquaredError()])\n",
        "\n",
        "lstm7d.summary()"
      ],
      "metadata": {
        "colab": {
          "base_uri": "https://localhost:8080/"
        },
        "id": "10U-R_ICJl2K",
        "outputId": "d6101b7c-38d9-4465-8c5c-f24d65f15e82"
      },
      "execution_count": null,
      "outputs": [
        {
          "output_type": "stream",
          "name": "stdout",
          "text": [
            "Model: \"lstm7d\"\n",
            "_________________________________________________________________\n",
            " Layer (type)                Output Shape              Param #   \n",
            "=================================================================\n",
            " input_3 (InputLayer)        [(None, 8)]               0         \n",
            "                                                                 \n",
            " lambda_2 (Lambda)           (None, 1, 8)              0         \n",
            "                                                                 \n",
            " batch_normalization_6 (Batc  (None, 1, 8)             32        \n",
            " hNormalization)                                                 \n",
            "                                                                 \n",
            " lstm_4 (LSTM)               (None, 1, 512)            1067008   \n",
            "                                                                 \n",
            " batch_normalization_7 (Batc  (None, 1, 512)           2048      \n",
            " hNormalization)                                                 \n",
            "                                                                 \n",
            " dropout_2 (Dropout)         (None, 1, 512)            0         \n",
            "                                                                 \n",
            " lstm_5 (LSTM)               (None, 512)               2099200   \n",
            "                                                                 \n",
            " batch_normalization_8 (Batc  (None, 512)              2048      \n",
            " hNormalization)                                                 \n",
            "                                                                 \n",
            " dense_4 (Dense)             (None, 256)               131328    \n",
            "                                                                 \n",
            " dense_5 (Dense)             (None, 1)                 257       \n",
            "                                                                 \n",
            "=================================================================\n",
            "Total params: 3,301,921\n",
            "Trainable params: 3,299,857\n",
            "Non-trainable params: 2,064\n",
            "_________________________________________________________________\n"
          ]
        }
      ]
    },
    {
      "cell_type": "code",
      "source": [
        "# Model fitting\n",
        "lstm7d.fit(X_train, y_train,\n",
        "             epochs=100,\n",
        "             batch_size=128,\n",
        "             verbose=0,\n",
        "             validation_data=(X_test, y_test),\n",
        "             callbacks=[cb_checkpoint,\n",
        "                        cb_reducelr,\n",
        "                        cb_earlystop,\n",
        "                        cb_csvlogger])"
      ],
      "metadata": {
        "colab": {
          "base_uri": "https://localhost:8080/"
        },
        "id": "mYx7YAqFJo9Y",
        "outputId": "fe64593b-db71-461b-a267-491662e012da"
      },
      "execution_count": null,
      "outputs": [
        {
          "output_type": "stream",
          "name": "stdout",
          "text": [
            "\n",
            "Epoch 1: val_loss did not improve from 8.70386\n",
            "\n",
            "Epoch 2: val_loss did not improve from 8.70386\n",
            "\n",
            "Epoch 3: val_loss did not improve from 8.70386\n",
            "\n",
            "Epoch 4: val_loss did not improve from 8.70386\n",
            "\n",
            "Epoch 5: val_loss did not improve from 8.70386\n",
            "\n",
            "Epoch 6: val_loss did not improve from 8.70386\n",
            "\n",
            "Epoch 7: val_loss did not improve from 8.70386\n",
            "\n",
            "Epoch 8: val_loss did not improve from 8.70386\n",
            "\n",
            "Epoch 9: val_loss did not improve from 8.70386\n",
            "\n",
            "Epoch 10: val_loss did not improve from 8.70386\n",
            "\n",
            "Epoch 11: val_loss did not improve from 8.70386\n",
            "\n",
            "Epoch 12: val_loss did not improve from 8.70386\n",
            "\n",
            "Epoch 13: val_loss did not improve from 8.70386\n",
            "\n",
            "Epoch 14: val_loss did not improve from 8.70386\n",
            "\n",
            "Epoch 15: val_loss did not improve from 8.70386\n",
            "\n",
            "Epoch 16: val_loss did not improve from 8.70386\n",
            "\n",
            "Epoch 17: val_loss did not improve from 8.70386\n",
            "\n",
            "Epoch 18: val_loss did not improve from 8.70386\n",
            "\n",
            "Epoch 19: val_loss did not improve from 8.70386\n",
            "\n",
            "Epoch 20: val_loss did not improve from 8.70386\n",
            "\n",
            "Epoch 21: val_loss did not improve from 8.70386\n",
            "\n",
            "Epoch 22: val_loss did not improve from 8.70386\n",
            "\n",
            "Epoch 23: val_loss did not improve from 8.70386\n",
            "\n",
            "Epoch 24: val_loss did not improve from 8.70386\n",
            "\n",
            "Epoch 25: val_loss did not improve from 8.70386\n",
            "\n",
            "Epoch 26: val_loss did not improve from 8.70386\n",
            "\n",
            "Epoch 27: val_loss did not improve from 8.70386\n",
            "\n",
            "Epoch 28: val_loss did not improve from 8.70386\n",
            "\n",
            "Epoch 29: val_loss did not improve from 8.70386\n",
            "\n",
            "Epoch 30: val_loss did not improve from 8.70386\n",
            "\n",
            "Epoch 31: val_loss did not improve from 8.70386\n",
            "\n",
            "Epoch 32: val_loss did not improve from 8.70386\n",
            "\n",
            "Epoch 33: val_loss did not improve from 8.70386\n",
            "\n",
            "Epoch 34: val_loss did not improve from 8.70386\n",
            "\n",
            "Epoch 35: val_loss did not improve from 8.70386\n",
            "\n",
            "Epoch 36: val_loss did not improve from 8.70386\n",
            "\n",
            "Epoch 36: ReduceLROnPlateau reducing learning rate to 0.0005000000237487257.\n",
            "\n",
            "Epoch 37: val_loss did not improve from 8.70386\n",
            "\n",
            "Epoch 38: val_loss did not improve from 8.70386\n",
            "\n",
            "Epoch 39: val_loss did not improve from 8.70386\n",
            "\n",
            "Epoch 40: val_loss did not improve from 8.70386\n",
            "\n",
            "Epoch 41: val_loss did not improve from 8.70386\n",
            "\n",
            "Epoch 42: val_loss did not improve from 8.70386\n",
            "\n",
            "Epoch 43: val_loss did not improve from 8.70386\n",
            "\n",
            "Epoch 44: val_loss did not improve from 8.70386\n",
            "\n",
            "Epoch 45: val_loss did not improve from 8.70386\n",
            "\n",
            "Epoch 45: ReduceLROnPlateau reducing learning rate to 0.0002500000118743628.\n",
            "\n",
            "Epoch 46: val_loss did not improve from 8.70386\n",
            "\n",
            "Epoch 47: val_loss improved from 8.70386 to 8.21262, saving model to checkpoints/model-47-2.156.hdf5\n",
            "\n",
            "Epoch 48: val_loss did not improve from 8.21262\n",
            "\n",
            "Epoch 49: val_loss did not improve from 8.21262\n",
            "\n",
            "Epoch 50: val_loss improved from 8.21262 to 8.12203, saving model to checkpoints/model-50-2.467.hdf5\n",
            "\n",
            "Epoch 51: val_loss did not improve from 8.12203\n",
            "\n",
            "Epoch 52: val_loss improved from 8.12203 to 6.36468, saving model to checkpoints/model-52-2.332.hdf5\n",
            "\n",
            "Epoch 53: val_loss did not improve from 6.36468\n",
            "\n",
            "Epoch 54: val_loss did not improve from 6.36468\n",
            "\n",
            "Epoch 55: val_loss did not improve from 6.36468\n",
            "\n",
            "Epoch 56: val_loss did not improve from 6.36468\n",
            "\n",
            "Epoch 57: val_loss did not improve from 6.36468\n",
            "\n",
            "Epoch 57: ReduceLROnPlateau reducing learning rate to 0.0001250000059371814.\n",
            "\n",
            "Epoch 58: val_loss did not improve from 6.36468\n",
            "\n",
            "Epoch 59: val_loss did not improve from 6.36468\n",
            "\n",
            "Epoch 60: val_loss improved from 6.36468 to 6.20487, saving model to checkpoints/model-60-2.036.hdf5\n",
            "\n",
            "Epoch 61: val_loss did not improve from 6.20487\n",
            "\n",
            "Epoch 62: val_loss did not improve from 6.20487\n",
            "\n",
            "Epoch 63: val_loss did not improve from 6.20487\n",
            "\n",
            "Epoch 64: val_loss did not improve from 6.20487\n",
            "\n",
            "Epoch 65: val_loss did not improve from 6.20487\n",
            "\n",
            "Epoch 65: ReduceLROnPlateau reducing learning rate to 6.25000029685907e-05.\n",
            "\n",
            "Epoch 66: val_loss did not improve from 6.20487\n",
            "\n",
            "Epoch 67: val_loss did not improve from 6.20487\n",
            "\n",
            "Epoch 68: val_loss did not improve from 6.20487\n",
            "\n",
            "Epoch 69: val_loss did not improve from 6.20487\n",
            "\n",
            "Epoch 70: val_loss did not improve from 6.20487\n",
            "\n",
            "Epoch 70: ReduceLROnPlateau reducing learning rate to 3.125000148429535e-05.\n",
            "Epoch 70: early stopping\n"
          ]
        },
        {
          "output_type": "execute_result",
          "data": {
            "text/plain": [
              "<keras.callbacks.History at 0x7f0fc7d09150>"
            ]
          },
          "metadata": {},
          "execution_count": 25
        }
      ]
    },
    {
      "cell_type": "code",
      "source": [
        "# load best model\n",
        "best_lstm7d_low = tf.keras.models.load_model(\"/content/checkpoints/model-60-2.036.hdf5\")\n",
        "model_lstm_preds = tf.squeeze(best_lstm7d_low.predict(X[int(len(X)*0.8):]))\n",
        "predictions = model_lstm_preds.numpy()"
      ],
      "metadata": {
        "colab": {
          "base_uri": "https://localhost:8080/"
        },
        "id": "J159oBJpJrNB",
        "outputId": "ee04f1e9-d1ec-4f2c-c4e1-0358c46dc6fe"
      },
      "execution_count": null,
      "outputs": [
        {
          "output_type": "stream",
          "name": "stdout",
          "text": [
            "17/17 [==============================] - 1s 10ms/step\n"
          ]
        }
      ]
    },
    {
      "cell_type": "markdown",
      "source": [
        "## Performance Evaluation"
      ],
      "metadata": {
        "id": "AEgO0t8vt6hQ"
      }
    },
    {
      "cell_type": "code",
      "source": [
        "evaluate_preds(y_test, model_lstm_preds)"
      ],
      "metadata": {
        "colab": {
          "base_uri": "https://localhost:8080/"
        },
        "id": "Kvy9tWVBKRhW",
        "outputId": "bef3d8d6-77a2-4269-febb-652afbe7c6a4"
      },
      "execution_count": null,
      "outputs": [
        {
          "output_type": "execute_result",
          "data": {
            "text/plain": [
              "{'mae': 1.7807158, 'mse': 6.2048717, 'rmse': 2.490958, 'mape': 2.6025572}"
            ]
          },
          "metadata": {},
          "execution_count": 27
        }
      ]
    },
    {
      "cell_type": "code",
      "source": [
        "plt.figure(figsize=(10,7))\n",
        "plt.plot(y[int(len(X)*0.8):].values, label=\"actual\")\n",
        "plt.plot(predictions, label=\"predictions\")\n",
        "plt.title(\"Prediction Performance\")\n",
        "plt.xticks(rotation=90)\n",
        "plt.legend();"
      ],
      "metadata": {
        "colab": {
          "base_uri": "https://localhost:8080/",
          "height": 634
        },
        "id": "2L77jGJ6KTqW",
        "outputId": "68157763-ea8b-4f6c-f24e-0186f6697488"
      },
      "execution_count": null,
      "outputs": [
        {
          "output_type": "display_data",
          "data": {
            "text/plain": [
              "<Figure size 1000x700 with 1 Axes>"
            ],
            "image/png": "[encoded data removed]"
          },
          "metadata": {}
        }
      ]
    },
    {
      "cell_type": "code",
      "source": [
        "test_data2 = [[209400, 33.13, 33.68, 32.47, 31.72, 31.08, 32.16, 31.76]]\n",
        "predict_forward_window(test_data2, best_lstm7d_low)"
      ],
      "metadata": {
        "colab": {
          "base_uri": "https://localhost:8080/"
        },
        "id": "8l-qTcqSKT5C",
        "outputId": "55bf056e-0134-41b4-f119-d240725dd958"
      },
      "execution_count": null,
      "outputs": [
        {
          "output_type": "stream",
          "name": "stdout",
          "text": [
            "1/1 [==============================] - 0s 200ms/step\n",
            "Target Price: 33.573 Potential Upside: 1.34%\n"
          ]
        }
      ]
    },
    {
      "cell_type": "markdown",
      "source": [
        "|Model|RMSE|MSE|MAE|MAPE|\n",
        "|-----|----|---|---|----|\n",
        "| Low Cap| 2.4909| 6.2048| 1.7807| 2.602|\n",
        "| Large Cap| 9.8663| 97.344| 7.5996| 3.4767|"
      ],
      "metadata": {
        "id": "UoAn0ijGnuCi"
      }
    }
  ]
}